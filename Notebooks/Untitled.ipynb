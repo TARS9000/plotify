{
 "cells": [
  {
   "cell_type": "code",
   "execution_count": 27,
   "id": "db9ae418-a531-445c-8c8f-8b52fd622a14",
   "metadata": {},
   "outputs": [
    {
     "data": {
      "text/plain": [
       "{'generate_summary': [{'generated_text': '<|romance|> The story starts somewhere in the British Empire a young British soldier , named Mordecai , is about to join the forces of German mercenaries during World War II . He was recruited from the army of a small town by the Saxons to become a'}]}"
      ]
     },
     "execution_count": 27,
     "metadata": {},
     "output_type": "execute_result"
    }
   ],
   "source": [
    "import requests\n",
    "\n",
    "url = \"https://plotifymodel-b4p33xwhra-ez.a.run.app/generate_summary?\"\n",
    "\n",
    "param = {'genre': 'romance',\n",
    "            'prompt': '',\n",
    "            'max_length': 50}\n",
    "\n",
    "x = requests.get(url, params=param).json()\n",
    "\n",
    "x"
   ]
  },
  {
   "cell_type": "code",
   "execution_count": 28,
   "id": "b7c7727e-b903-4f74-bf50-6cc1327fd578",
   "metadata": {},
   "outputs": [
    {
     "name": "stdout",
     "output_type": "stream",
     "text": [
      "The story starts somewhere in the British Empire a young British soldier , named Mordecai , is about to join the forces of German mercenaries during World War II . He was recruited from the army of a small town by the Saxons to become a\n"
     ]
    }
   ],
   "source": [
    "print(x['generate_summary'][0]['generated_text'].split('> ')[1])"
   ]
  },
  {
   "cell_type": "code",
   "execution_count": null,
   "id": "f425f5ff-c67b-450e-a7e4-972a18abe15e",
   "metadata": {},
   "outputs": [],
   "source": []
  }
 ],
 "metadata": {
  "kernelspec": {
   "display_name": "Python 3 (ipykernel)",
   "language": "python",
   "name": "python3"
  },
  "language_info": {
   "codemirror_mode": {
    "name": "ipython",
    "version": 3
   },
   "file_extension": ".py",
   "mimetype": "text/x-python",
   "name": "python",
   "nbconvert_exporter": "python",
   "pygments_lexer": "ipython3",
   "version": "3.10.6"
  }
 },
 "nbformat": 4,
 "nbformat_minor": 5
}
